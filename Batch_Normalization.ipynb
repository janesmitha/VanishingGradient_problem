{
  "nbformat": 4,
  "nbformat_minor": 0,
  "metadata": {
    "colab": {
      "provenance": [],
      "gpuType": "A100"
    },
    "kernelspec": {
      "name": "python3",
      "display_name": "Python 3"
    },
    "language_info": {
      "name": "python"
    },
    "accelerator": "GPU"
  },
  "cells": [
    {
      "cell_type": "markdown",
      "source": [
        "## Beofre applying Batch Normalization"
      ],
      "metadata": {
        "id": "9kjell1nceR3"
      }
    },
    {
      "cell_type": "code",
      "execution_count": null,
      "metadata": {
        "id": "n8Q42uovcByf"
      },
      "outputs": [],
      "source": [
        "import tensorflow as tf\n",
        "import numpy as np\n",
        "import matplotlib.pyplot as plt\n",
        "import time"
      ]
    },
    {
      "cell_type": "code",
      "source": [
        "mnist = tf.keras.datasets.mnist\n",
        "(X_train_full, y_train_full), (X_test, y_test) = mnist.load_data()"
      ],
      "metadata": {
        "colab": {
          "base_uri": "https://localhost:8080/"
        },
        "id": "X9gM4Vu0ctZN",
        "outputId": "cfbcc04c-baae-4e87-f310-12371f539f29"
      },
      "execution_count": null,
      "outputs": [
        {
          "output_type": "stream",
          "name": "stdout",
          "text": [
            "Downloading data from https://storage.googleapis.com/tensorflow/tf-keras-datasets/mnist.npz\n",
            "11490434/11490434 [==============================] - 1s 0us/step\n"
          ]
        }
      ]
    },
    {
      "cell_type": "code",
      "source": [
        "# Appying scaling (minmax)\n",
        "\n",
        "X_valid, X_train = X_train_full[:5000] / 255. , X_train_full[5000:] / 255.\n",
        "y_valid, y_train = y_train_full[:5000] , y_train_full[5000:]\n",
        "\n",
        "#scale test data\n",
        "X_test = X_test / 255."
      ],
      "metadata": {
        "id": "9tup1ESPdM2d"
      },
      "execution_count": null,
      "outputs": []
    },
    {
      "cell_type": "code",
      "source": [
        "LAYERS = [\n",
        "      tf.keras.layers.Flatten(input_shape = [28,28]),\n",
        "      tf.keras.layers.Dense(300, kernel_initializer=\"he_normal\"),\n",
        "      tf.keras.layers.LeakyReLU(),\n",
        "      tf.keras.layers.Dense(100, kernel_initializer=\"he_normal\"),\n",
        "      tf.keras.layers.LeakyReLU(),\n",
        "      tf.keras.layers.Dense(10, activation='softmax')\n",
        "\n",
        "]\n",
        "\n",
        "model = tf.keras.models.Sequential(LAYERS)"
      ],
      "metadata": {
        "id": "qc-nc18CdS90"
      },
      "execution_count": null,
      "outputs": []
    },
    {
      "cell_type": "code",
      "source": [
        "model.compile(loss = 'sparse_categorical_crossentropy', optimizer= tf.keras.optimizers.SGD(learning_rate=1e-3), metrics=['accuracy'])"
      ],
      "metadata": {
        "id": "P9yFE6IofIZu"
      },
      "execution_count": null,
      "outputs": []
    },
    {
      "cell_type": "code",
      "source": [
        "model.summary()"
      ],
      "metadata": {
        "colab": {
          "base_uri": "https://localhost:8080/"
        },
        "id": "UycGpZZzf0jQ",
        "outputId": "776619db-db41-44a3-c996-1daa5acbd7a8"
      },
      "execution_count": null,
      "outputs": [
        {
          "output_type": "stream",
          "name": "stdout",
          "text": [
            "Model: \"sequential\"\n",
            "_________________________________________________________________\n",
            " Layer (type)                Output Shape              Param #   \n",
            "=================================================================\n",
            " flatten_1 (Flatten)         (None, 784)               0         \n",
            "                                                                 \n",
            " dense_3 (Dense)             (None, 300)               235500    \n",
            "                                                                 \n",
            " leaky_re_lu_2 (LeakyReLU)   (None, 300)               0         \n",
            "                                                                 \n",
            " dense_4 (Dense)             (None, 100)               30100     \n",
            "                                                                 \n",
            " leaky_re_lu_3 (LeakyReLU)   (None, 100)               0         \n",
            "                                                                 \n",
            " dense_5 (Dense)             (None, 10)                1010      \n",
            "                                                                 \n",
            "=================================================================\n",
            "Total params: 266,610\n",
            "Trainable params: 266,610\n",
            "Non-trainable params: 0\n",
            "_________________________________________________________________\n"
          ]
        }
      ]
    },
    {
      "cell_type": "code",
      "source": [
        "start = time.time()\n",
        "\n",
        "history = model.fit(X_train, y_train, epochs=10,\n",
        "                    validation_data=(X_valid, y_valid))\n",
        "\n",
        "\n",
        "end = time.time()\n",
        "\n",
        "\n",
        "#total time\n",
        "print(f\"Runtime of the program is {end - start}\")"
      ],
      "metadata": {
        "colab": {
          "base_uri": "https://localhost:8080/"
        },
        "id": "iOQqYOIUf8Zu",
        "outputId": "c0503ce3-6278-42a1-9df1-14cc51d2f898"
      },
      "execution_count": null,
      "outputs": [
        {
          "output_type": "stream",
          "name": "stdout",
          "text": [
            "Epoch 1/10\n",
            "1719/1719 [==============================] - 10s 3ms/step - loss: 1.5042 - accuracy: 0.6235 - val_loss: 0.9364 - val_accuracy: 0.8064\n",
            "Epoch 2/10\n",
            "1719/1719 [==============================] - 4s 2ms/step - loss: 0.7350 - accuracy: 0.8335 - val_loss: 0.5780 - val_accuracy: 0.8598\n",
            "Epoch 3/10\n",
            "1719/1719 [==============================] - 4s 2ms/step - loss: 0.5322 - accuracy: 0.8651 - val_loss: 0.4626 - val_accuracy: 0.8826\n",
            "Epoch 4/10\n",
            "1719/1719 [==============================] - 4s 2ms/step - loss: 0.4526 - accuracy: 0.8786 - val_loss: 0.4066 - val_accuracy: 0.8896\n",
            "Epoch 5/10\n",
            "1719/1719 [==============================] - 4s 2ms/step - loss: 0.4098 - accuracy: 0.8875 - val_loss: 0.3731 - val_accuracy: 0.8978\n",
            "Epoch 6/10\n",
            "1719/1719 [==============================] - 4s 2ms/step - loss: 0.3824 - accuracy: 0.8936 - val_loss: 0.3507 - val_accuracy: 0.9036\n",
            "Epoch 7/10\n",
            "1719/1719 [==============================] - 4s 2ms/step - loss: 0.3630 - accuracy: 0.8965 - val_loss: 0.3346 - val_accuracy: 0.9078\n",
            "Epoch 8/10\n",
            "1719/1719 [==============================] - 4s 3ms/step - loss: 0.3481 - accuracy: 0.9007 - val_loss: 0.3216 - val_accuracy: 0.9096\n",
            "Epoch 9/10\n",
            "1719/1719 [==============================] - 4s 3ms/step - loss: 0.3362 - accuracy: 0.9036 - val_loss: 0.3112 - val_accuracy: 0.9130\n",
            "Epoch 10/10\n",
            "1719/1719 [==============================] - 4s 3ms/step - loss: 0.3260 - accuracy: 0.9065 - val_loss: 0.3027 - val_accuracy: 0.9146\n",
            "Runtime of the program is 48.979103565216064\n"
          ]
        }
      ]
    },
    {
      "cell_type": "markdown",
      "source": [
        "## After batch Normalization"
      ],
      "metadata": {
        "id": "88278KS6g8Eu"
      }
    },
    {
      "cell_type": "code",
      "source": [
        "del model #deleting prev model"
      ],
      "metadata": {
        "colab": {
          "base_uri": "https://localhost:8080/",
          "height": 176
        },
        "id": "NmyM7Nm-g7RB",
        "outputId": "21e6547f-f610-4199-de28-9265abb69f01"
      },
      "execution_count": null,
      "outputs": [
        {
          "output_type": "error",
          "ename": "NameError",
          "evalue": "ignored",
          "traceback": [
            "\u001b[0;31m---------------------------------------------------------------------------\u001b[0m",
            "\u001b[0;31mNameError\u001b[0m                                 Traceback (most recent call last)",
            "\u001b[0;32m<ipython-input-11-57516fb989c9>\u001b[0m in \u001b[0;36m<cell line: 1>\u001b[0;34m()\u001b[0m\n\u001b[0;32m----> 1\u001b[0;31m \u001b[0;32mdel\u001b[0m \u001b[0mmodel\u001b[0m \u001b[0;31m#deleting prev model\u001b[0m\u001b[0;34m\u001b[0m\u001b[0;34m\u001b[0m\u001b[0m\n\u001b[0m",
            "\u001b[0;31mNameError\u001b[0m: name 'model' is not defined"
          ]
        }
      ]
    },
    {
      "cell_type": "code",
      "source": [
        "LAYERS = [\n",
        "      tf.keras.layers.Flatten(input_shape = [28,28]),\n",
        "      tf.keras.layers.BatchNormalization(),\n",
        "      tf.keras.layers.Dense(300, kernel_initializer=\"he_normal\"),\n",
        "      tf.keras.layers.LeakyReLU(),\n",
        "      tf.keras.layers.BatchNormalization(),\n",
        "      tf.keras.layers.Dense(100, kernel_initializer=\"he_normal\"),\n",
        "      tf.keras.layers.LeakyReLU(),\n",
        "      tf.keras.layers.BatchNormalization(),\n",
        "      tf.keras.layers.Dense(10, activation='softmax')\n",
        "\n",
        "]\n",
        "\n",
        "model = tf.keras.models.Sequential(LAYERS)"
      ],
      "metadata": {
        "id": "eOsFfxnKg7Om"
      },
      "execution_count": null,
      "outputs": []
    },
    {
      "cell_type": "code",
      "source": [
        "model.summary()"
      ],
      "metadata": {
        "colab": {
          "base_uri": "https://localhost:8080/"
        },
        "id": "VnQayVGNg7Gu",
        "outputId": "b11cd2ef-bb33-4f9c-90d7-3ecd6106ebc3"
      },
      "execution_count": null,
      "outputs": [
        {
          "output_type": "stream",
          "name": "stdout",
          "text": [
            "Model: \"sequential_1\"\n",
            "_________________________________________________________________\n",
            " Layer (type)                Output Shape              Param #   \n",
            "=================================================================\n",
            " flatten_2 (Flatten)         (None, 784)               0         \n",
            "                                                                 \n",
            " batch_normalization (BatchN  (None, 784)              3136      \n",
            " ormalization)                                                   \n",
            "                                                                 \n",
            " dense_6 (Dense)             (None, 300)               235500    \n",
            "                                                                 \n",
            " leaky_re_lu_4 (LeakyReLU)   (None, 300)               0         \n",
            "                                                                 \n",
            " batch_normalization_1 (Batc  (None, 300)              1200      \n",
            " hNormalization)                                                 \n",
            "                                                                 \n",
            " dense_7 (Dense)             (None, 100)               30100     \n",
            "                                                                 \n",
            " leaky_re_lu_5 (LeakyReLU)   (None, 100)               0         \n",
            "                                                                 \n",
            " batch_normalization_2 (Batc  (None, 100)              400       \n",
            " hNormalization)                                                 \n",
            "                                                                 \n",
            " dense_8 (Dense)             (None, 10)                1010      \n",
            "                                                                 \n",
            "=================================================================\n",
            "Total params: 271,346\n",
            "Trainable params: 268,978\n",
            "Non-trainable params: 2,368\n",
            "_________________________________________________________________\n"
          ]
        }
      ]
    },
    {
      "cell_type": "code",
      "source": [
        "model.compile(loss = 'sparse_categorical_crossentropy', optimizer= tf.keras.optimizers.SGD(learning_rate=1e-3), metrics=['accuracy'])"
      ],
      "metadata": {
        "id": "YdAGd6w2g7EW"
      },
      "execution_count": null,
      "outputs": []
    },
    {
      "cell_type": "code",
      "source": [
        "start = time.time()\n",
        "\n",
        "history = model.fit(X_train, y_train, epochs=10,\n",
        "                    validation_data=(X_valid, y_valid))\n",
        "\n",
        "\n",
        "end = time.time()\n",
        "\n",
        "\n",
        "#total time\n",
        "print(f\"Runtime of the program is {end - start}\")"
      ],
      "metadata": {
        "colab": {
          "base_uri": "https://localhost:8080/"
        },
        "id": "3DubESdPiBid",
        "outputId": "58aa791c-5fb7-4325-83ed-2793b948abf1"
      },
      "execution_count": null,
      "outputs": [
        {
          "output_type": "stream",
          "name": "stdout",
          "text": [
            "Epoch 1/10\n",
            "1719/1719 [==============================] - 9s 4ms/step - loss: 0.8902 - accuracy: 0.7258 - val_loss: 0.4803 - val_accuracy: 0.8626\n",
            "Epoch 2/10\n",
            "1719/1719 [==============================] - 7s 4ms/step - loss: 0.4769 - accuracy: 0.8610 - val_loss: 0.3678 - val_accuracy: 0.8932\n",
            "Epoch 3/10\n",
            "1719/1719 [==============================] - 7s 4ms/step - loss: 0.4042 - accuracy: 0.8815 - val_loss: 0.3202 - val_accuracy: 0.9070\n",
            "Epoch 4/10\n",
            "1719/1719 [==============================] - 7s 4ms/step - loss: 0.3639 - accuracy: 0.8928 - val_loss: 0.2913 - val_accuracy: 0.9152\n",
            "Epoch 5/10\n",
            "1719/1719 [==============================] - 7s 4ms/step - loss: 0.3376 - accuracy: 0.9011 - val_loss: 0.2736 - val_accuracy: 0.9230\n",
            "Epoch 6/10\n",
            "1719/1719 [==============================] - 7s 4ms/step - loss: 0.3170 - accuracy: 0.9080 - val_loss: 0.2589 - val_accuracy: 0.9260\n",
            "Epoch 7/10\n",
            "1719/1719 [==============================] - 7s 4ms/step - loss: 0.3023 - accuracy: 0.9116 - val_loss: 0.2474 - val_accuracy: 0.9286\n",
            "Epoch 8/10\n",
            "1719/1719 [==============================] - 7s 4ms/step - loss: 0.2870 - accuracy: 0.9171 - val_loss: 0.2394 - val_accuracy: 0.9326\n",
            "Epoch 9/10\n",
            "1719/1719 [==============================] - 7s 4ms/step - loss: 0.2775 - accuracy: 0.9188 - val_loss: 0.2307 - val_accuracy: 0.9360\n",
            "Epoch 10/10\n",
            "1719/1719 [==============================] - 7s 4ms/step - loss: 0.2702 - accuracy: 0.9214 - val_loss: 0.2229 - val_accuracy: 0.9376\n",
            "Runtime of the program is 69.1629855632782\n"
          ]
        }
      ]
    },
    {
      "cell_type": "code",
      "source": [],
      "metadata": {
        "id": "0v2Ucg4ciE69"
      },
      "execution_count": null,
      "outputs": []
    }
  ]
}